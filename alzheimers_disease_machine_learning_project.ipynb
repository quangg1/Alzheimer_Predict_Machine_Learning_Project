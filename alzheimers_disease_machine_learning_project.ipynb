{
 "cells": [
  {
   "cell_type": "code",
   "execution_count": 24,
   "metadata": {},
   "outputs": [],
   "source": [
    "def adjust_mmse(value):\n",
    "    integer_part = int(value)  # Phần nguyên\n",
    "    decimal_part = value - integer_part  # Phần thập phân\n",
    "    \n",
    "    if decimal_part > 0.6:\n",
    "        integer_part += 1  # Cộng thêm 1 vào phần nguyên nếu phần thập phân > 0.6\n",
    "    \n",
    "    return integer_part"
   ]
  },
  {
   "cell_type": "code",
   "execution_count": 48,
   "metadata": {},
   "outputs": [
    {
     "name": "stdout",
     "output_type": "stream",
     "text": [
      "Index(['PatientID', 'Age', 'Gender', 'Ethnicity', 'EducationLevel', 'BMI',\n",
      "       'Smoking', 'AlcoholConsumption', 'PhysicalActivity', 'DietQuality',\n",
      "       'SleepQuality', 'FamilyHistoryAlzheimers', 'CardiovascularDisease',\n",
      "       'Diabetes', 'Depression', 'HeadInjury', 'Hypertension', 'SystolicBP',\n",
      "       'DiastolicBP', 'CholesterolTotal', 'CholesterolLDL', 'CholesterolHDL',\n",
      "       'CholesterolTriglycerides', 'MMSE', 'FunctionalAssessment',\n",
      "       'MemoryComplaints', 'BehavioralProblems', 'ADL', 'Confusion',\n",
      "       'Disorientation', 'PersonalityChanges', 'DifficultyCompletingTasks',\n",
      "       'Forgetfulness', 'Diagnosis', 'DoctorInCharge'],\n",
      "      dtype='object')\n"
     ]
    }
   ],
   "source": [
    "import pandas as pd\n",
    "import numpy as np\n",
    "from sklearn.model_selection import train_test_split\n",
    "from sklearn.preprocessing import LabelEncoder\n",
    "from sklearn.pipeline import make_pipeline\n",
    "from sklearn.model_selection import cross_val_score\n",
    "from xgboost import XGBClassifier\n",
    "from sklearn.model_selection import GridSearchCV\n",
    "from sklearn.metrics import accuracy_score\n",
    "from sklearn.inspection import permutation_importance\n",
    "import xgboost as xgb\n",
    "import matplotlib.pyplot as plt\n",
    "from sksurv.util import Surv\n",
    "import xgboost as xgb\n",
    "df=pd.read_csv(r'D:\\Python\\python_work\\AI_machine learning\\alzheimers_disease_data.csv')\n",
    "df['MMSE'] = df['MMSE'].apply(adjust_mmse)\n",
    "df['PhysicalActivity']=df['PhysicalActivity'].apply(adjust_mmse)\n",
    "print(df.columns)\n",
    "X=df[['MMSE','FunctionalAssessment','MemoryComplaints','BehavioralProblems','ADL']]\n",
    "y=df['Diagnosis']"
   ]
  },
  {
   "cell_type": "code",
   "execution_count": 63,
   "metadata": {},
   "outputs": [
    {
     "name": "stdout",
     "output_type": "stream",
     "text": [
      "                      Feature  Importance\n",
      "22       FunctionalAssessment    0.190598\n",
      "25                        ADL    0.167770\n",
      "21                       MMSE    0.121221\n",
      "23           MemoryComplaints    0.087263\n",
      "24         BehavioralProblems    0.051010\n",
      "7                 DietQuality    0.031132\n",
      "19             CholesterolHDL    0.030589\n",
      "3                         BMI    0.030149\n",
      "20   CholesterolTriglycerides    0.029844\n",
      "8                SleepQuality    0.029625\n",
      "5          AlcoholConsumption    0.028640\n",
      "18             CholesterolLDL    0.028065\n",
      "17           CholesterolTotal    0.027507\n",
      "16                DiastolicBP    0.024625\n",
      "0                         Age    0.024240\n",
      "15                 SystolicBP    0.023796\n",
      "6            PhysicalActivity    0.018183\n",
      "2              EducationLevel    0.009888\n",
      "1                      Gender    0.004372\n",
      "14               Hypertension    0.004010\n",
      "10      CardiovascularDisease    0.003865\n",
      "4                     Smoking    0.003858\n",
      "30              Forgetfulness    0.003652\n",
      "9     FamilyHistoryAlzheimers    0.003537\n",
      "29  DifficultyCompletingTasks    0.003466\n",
      "12                 Depression    0.003360\n",
      "28         PersonalityChanges    0.003287\n",
      "11                   Diabetes    0.003272\n",
      "27             Disorientation    0.003259\n",
      "26                  Confusion    0.002989\n",
      "13                 HeadInjury    0.002928\n"
     ]
    }
   ],
   "source": [
    "import seaborn as sns\n",
    "import matplotlib.pyplot as plt\n",
    "from sklearn.ensemble import RandomForestClassifier\n",
    "cat_columns=['PatientID','Ethnicity','DoctorInCharge','Diagnosis']\n",
    "new_df=df.drop(cat_columns,axis=1)\n",
    "X_df=new_df = pd.DataFrame(new_df)\n",
    "rf=RandomForestClassifier(n_estimators=100, random_state=42)\n",
    "rf.fit(X_df, y)\n",
    "feature_importance = rf.feature_importances_\n",
    "\n",
    "# Tạo DataFrame để dễ dàng đọc kết quả\n",
    "importance_df = pd.DataFrame({\n",
    "    'Feature': X_df.columns,\n",
    "    'Importance': feature_importance\n",
    "})\n",
    "\n",
    "# Sắp xếp và hiển thị kết quả\n",
    "importance_df = importance_df.sort_values(by='Importance', ascending=False)\n",
    "print(importance_df)\n"
   ]
  },
  {
   "cell_type": "code",
   "execution_count": 78,
   "metadata": {},
   "outputs": [
    {
     "name": "stdout",
     "output_type": "stream",
     "text": [
      "Fitting 5 folds for each of 1296 candidates, totalling 6480 fits\n"
     ]
    },
    {
     "name": "stderr",
     "output_type": "stream",
     "text": [
      "c:\\Users\\pc\\AppData\\Local\\Programs\\Python\\Python312\\Lib\\site-packages\\numpy\\ma\\core.py:2820: RuntimeWarning: invalid value encountered in cast\n",
      "  _data = np.array(data, dtype=dtype, copy=copy,\n"
     ]
    },
    {
     "name": "stdout",
     "output_type": "stream",
     "text": [
      "Best parameters: {'alpha': 0.5, 'learning_rate': 0.1, 'max_depth': 5, 'min_child_weight': 1, 'n_estimators': 50, 'reg_lambda': 1}\n",
      "Best score: 0.9514551495016612\n",
      "Train Accuracy: 0.9601\n",
      "Test Accuracy: 0.9411\n",
      "Cross-validation Accuracy: 0.9515 +/- 0.0150\n",
      "Mô hình đã được lưu vào tệp 'alzheimers_model.pkl'\n"
     ]
    }
   ],
   "source": [
    "import joblib\n",
    "from xgboost import XGBClassifier\n",
    "from sklearn.model_selection import train_test_split, GridSearchCV, cross_val_score\n",
    "from sklearn.metrics import accuracy_score\n",
    "\n",
    "# Giả sử bạn đã có dữ liệu X và y\n",
    "# X, y = ...\n",
    "\n",
    "X_train, X_test, y_train, y_test = train_test_split(X, y, test_size=0.3, random_state=42)\n",
    "\n",
    "# Khởi tạo và huấn luyện mô hình XGBoost\n",
    "xgb_model = XGBClassifier()\n",
    "param_grid = {\n",
    "    'learning_rate': [0.01, 0.1, 0.2],\n",
    "    'n_estimators': [50, 100, 200],\n",
    "    'max_depth': [3, 5, 7],\n",
    "    'min_child_weight': [1, 3, 5],\n",
    "    'alpha': [0, 0.1, 0.5, 1],  \n",
    "    'reg_lambda': [0, 1, 5, 10]  # Đảm bảo dùng 'reg_lambda' thay vì 'lambda'\n",
    "}\n",
    "\n",
    "# Khởi tạo GridSearchCV\n",
    "grid_search = GridSearchCV(estimator=xgb_model, param_grid=param_grid, cv=5, scoring='accuracy', n_jobs=-1, verbose=1)\n",
    "\n",
    "# Huấn luyện mô hình và tìm siêu tham số tối ưu\n",
    "grid_search.fit(X_train, y_train)\n",
    "\n",
    "# In kết quả\n",
    "print(f'Best parameters: {grid_search.best_params_}')\n",
    "print(f'Best score: {grid_search.best_score_}')\n",
    "\n",
    "# Dự đoán trên tập huấn luyện và kiểm tra\n",
    "y_train_pred = grid_search.best_estimator_.predict(X_train)\n",
    "y_test_pred = grid_search.best_estimator_.predict(X_test)\n",
    "\n",
    "# Tính độ chính xác\n",
    "train_accuracy = accuracy_score(y_train, y_train_pred)\n",
    "test_accuracy = accuracy_score(y_test, y_test_pred)\n",
    "\n",
    "print(f'Train Accuracy: {train_accuracy:.4f}')\n",
    "print(f'Test Accuracy: {test_accuracy:.4f}')\n",
    "\n",
    "# Cross-validation accuracy\n",
    "cross_val_score_results = cross_val_score(grid_search.best_estimator_, X_train, y_train, cv=5, scoring='accuracy')\n",
    "print(f'Cross-validation Accuracy: {cross_val_score_results.mean():.4f} +/- {cross_val_score_results.std():.4f}')\n",
    "\n",
    "# Lưu mô hình tốt nhất\n",
    "joblib.dump(grid_search.best_estimator_, 'alzheimers_model.pkl')\n",
    "print(\"Mô hình đã được lưu vào tệp 'alzheimers_model.pkl'\")"
   ]
  },
  {
   "cell_type": "code",
   "execution_count": 79,
   "metadata": {},
   "outputs": [
    {
     "name": "stdout",
     "output_type": "stream",
     "text": [
      "[0]\n"
     ]
    }
   ],
   "source": [
    "print(grid_search.best_estimator_.predict([[25,2.8,1,1,10]]))"
   ]
  },
  {
   "cell_type": "code",
   "execution_count": 58,
   "metadata": {},
   "outputs": [
    {
     "name": "stdout",
     "output_type": "stream",
     "text": [
      "Feature 0: 0.04651162790697676\n",
      "Feature 1: 0.1048062015503876\n",
      "Feature 2: 0.07410852713178295\n",
      "Feature 3: 0.04961240310077519\n",
      "Feature 4: 0.10666666666666665\n"
     ]
    }
   ],
   "source": [
    "results = permutation_importance(grid_search.best_estimator_, X_test, y_test, scoring='accuracy')\n",
    "\n",
    "# Hiển thị kết quả\n",
    "for i in range(len(results.importances_mean)):\n",
    "    print(f\"Feature {i}: {results.importances_mean[i]}\")"
   ]
  },
  {
   "cell_type": "code",
   "execution_count": 56,
   "metadata": {},
   "outputs": [
    {
     "name": "stdout",
     "output_type": "stream",
     "text": [
      "Fitting 5 folds for each of 12 candidates, totalling 60 fits\n",
      "Train Accuracy: 0.8557\n",
      "Test Accuracy: 0.8264\n",
      "Cross-validation Accuracy: 0.8530 +/- 0.0334\n"
     ]
    }
   ],
   "source": [
    "from sklearn.linear_model import LogisticRegression\n",
    "from sklearn.model_selection import GridSearchCV\n",
    "from sklearn.model_selection import cross_val_score\n",
    "\n",
    "# Xây dựng mô hình Logistic Regression với L1 hoặc L2 regularization\n",
    "logreg_model = LogisticRegression(solver='liblinear')  # 'liblinear' hỗ trợ L1 và L2\n",
    "\n",
    "# Định nghĩa các tham số cho GridSearch\n",
    "param_grid = {\n",
    "    'penalty': ['l1', 'l2'],  # L1 hoặc L2 regularization\n",
    "    'C': [0.1, 1, 10],  # Hệ số điều chỉnh độ mạnh của regularization\n",
    "    'max_iter': [100, 200]  # Số lần lặp tối đa\n",
    "}\n",
    "\n",
    "# Khởi tạo GridSearchCV với Logistic Regression\n",
    "grid_search = GridSearchCV(logreg_model, param_grid, cv=5, scoring='accuracy', n_jobs=-1, verbose=1)\n",
    "\n",
    "# Huấn luyện mô hình\n",
    "grid_search.fit(X_train, y_train)\n",
    "\n",
    "# Dự đoán trên dữ liệu huấn luyện và kiểm tra\n",
    "y_train_pred = grid_search.best_estimator_.predict(X_train)\n",
    "y_test_pred = grid_search.best_estimator_.predict(X_test)\n",
    "\n",
    "# Tính toán độ chính xác\n",
    "train_accuracy = accuracy_score(y_train, y_train_pred)\n",
    "test_accuracy = accuracy_score(y_test, y_test_pred)\n",
    "\n",
    "print(f'Train Accuracy: {train_accuracy:.4f}')\n",
    "print(f'Test Accuracy: {test_accuracy:.4f}')\n",
    "\n",
    "# Đánh giá Cross-validation\n",
    "cross_val_score_results = cross_val_score(grid_search.best_estimator_, X_train, y_train, cv=5, scoring='accuracy')\n",
    "print(f'Cross-validation Accuracy: {cross_val_score_results.mean():.4f} +/- {cross_val_score_results.std():.4f}')"
   ]
  },
  {
   "cell_type": "code",
   "execution_count": 57,
   "metadata": {},
   "outputs": [
    {
     "name": "stdout",
     "output_type": "stream",
     "text": [
      "Fitting 5 folds for each of 36 candidates, totalling 180 fits\n",
      "Train Accuracy: 0.9568\n",
      "Test Accuracy: 0.9256\n",
      "Cross-validation Accuracy: 0.8530 +/- 0.0334\n"
     ]
    }
   ],
   "source": [
    "from sklearn.ensemble import RandomForestClassifier\n",
    "rf_model=model = RandomForestClassifier()\n",
    "param_grid = {\n",
    "    'n_estimators': [50, 100, 150],\n",
    "    'max_depth': [5, 10, 15],\n",
    "    'min_samples_split': [2, 5],\n",
    "    'min_samples_leaf': [1, 2],\n",
    "}\n",
    "\n",
    "# 3. Khởi tạo GridSearchCV với 5-fold cross-validation\n",
    "grid_search_rf = GridSearchCV(estimator=model, param_grid=param_grid, cv=5, scoring='accuracy', n_jobs=-1, verbose=1)\n",
    "\n",
    "# 4. Tìm kiếm và huấn luyện mô hình\n",
    "grid_search_rf.fit(X_train, y_train)\n",
    "\n",
    "y_train_pred = grid_search_rf.best_estimator_.predict(X_train)\n",
    "y_test_pred = grid_search_rf.best_estimator_.predict(X_test)\n",
    "\n",
    "# Tính toán độ chính xác\n",
    "train_accuracy = accuracy_score(y_train, y_train_pred)\n",
    "test_accuracy = accuracy_score(y_test, y_test_pred)\n",
    "\n",
    "print(f'Train Accuracy: {train_accuracy:.4f}')\n",
    "print(f'Test Accuracy: {test_accuracy:.4f}')\n",
    "\n",
    "# Đánh giá Cross-validation\n",
    "cross_val_score_results = cross_val_score(grid_search.best_estimator_, X_train, y_train, cv=5, scoring='accuracy')\n",
    "print(f'Cross-validation Accuracy: {cross_val_score_results.mean():.4f} +/- {cross_val_score_results.std():.4f}')"
   ]
  }
 ],
 "metadata": {
  "kernelspec": {
   "display_name": "Python 3",
   "language": "python",
   "name": "python3"
  },
  "language_info": {
   "codemirror_mode": {
    "name": "ipython",
    "version": 3
   },
   "file_extension": ".py",
   "mimetype": "text/x-python",
   "name": "python",
   "nbconvert_exporter": "python",
   "pygments_lexer": "ipython3",
   "version": "3.12.5"
  }
 },
 "nbformat": 4,
 "nbformat_minor": 2
}
